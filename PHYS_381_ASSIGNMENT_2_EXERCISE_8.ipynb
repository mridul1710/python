{
 "cells": [
  {
   "attachments": {},
   "cell_type": "markdown",
   "metadata": {},
   "source": [
    "# PHYS 381 ASSIGNMENT 2"
   ]
  },
  {
   "attachments": {},
   "cell_type": "markdown",
   "metadata": {},
   "source": [
    "### Simulating a damped nonlinear pendulum with runge-kutta method"
   ]
  },
  {
   "attachments": {},
   "cell_type": "markdown",
   "metadata": {},
   "source": [
    "## Imports"
   ]
  },
  {
   "cell_type": "code",
   "execution_count": 9,
   "metadata": {},
   "outputs": [],
   "source": [
    "import matplotlib.pylab as plt\n",
    "# used to express figure axes as multiples of some constant (pi in this case)\n",
    "import matplotlib.ticker as ticker\n",
    "import numpy as np\n",
    "import math"
   ]
  },
  {
   "attachments": {},
   "cell_type": "markdown",
   "metadata": {},
   "source": [
    "## Global Variables"
   ]
  },
  {
   "cell_type": "code",
   "execution_count": 10,
   "metadata": {},
   "outputs": [],
   "source": [
    "# acceleration due to gravity\n",
    "g = 1\n",
    "# pendelum length\n",
    "L = 1\n",
    "# angular frequency\n",
    "phi = 2.0 / 3.0\n",
    "# amplitude\n",
    "A = 0.0\n",
    "# damping coefficient\n",
    "k = 0.5\n",
    "        "
   ]
  },
  {
   "attachments": {},
   "cell_type": "markdown",
   "metadata": {},
   "source": [
    "## Defining f"
   ]
  },
  {
   "cell_type": "code",
   "execution_count": 11,
   "metadata": {},
   "outputs": [],
   "source": [
    "def f_nonlin(theta, omega, t):\n",
    "    return  -(g / L) * math.sin(theta) - k * omega + A * math.cos(phi * t)"
   ]
  },
  {
   "attachments": {},
   "cell_type": "markdown",
   "metadata": {},
   "source": [
    "### Set up a function to simplify multiple simulations"
   ]
  },
  {
   "cell_type": "code",
   "execution_count": 12,
   "metadata": {},
   "outputs": [],
   "source": [
    "def simulate_and_plot(theta_init, omega_init, save=False, show=True, filename='untitled'):\n",
    "    \n",
    "    #init values\n",
    "    theta = theta_init\n",
    "    omega = omega_init\n",
    "    t = 0.0\n",
    "    dt = 0.01\n",
    "\n",
    "    # stores our output (time, theta, omega)\n",
    "    data_log = []\n",
    "\n",
    "    # iterate 1000 times\n",
    "    for i in range(1000):\n",
    "        #Using runge-kutta\n",
    "        k1a = dt * omega\n",
    "        k1b = dt * f_nonlin(theta, omega, t)\n",
    "        k2a = dt * (omega + k1b/2)\n",
    "        k2b = dt * f_nonlin(theta + k1a/2, omega + k1b/2, t + dt/2)\n",
    "        k3a = dt * (omega + k2b/2)\n",
    "        k3b = dt * f_nonlin(theta + k2a/2, omega + k2b/2, t + dt/2)\n",
    "        k4a = dt * (omega + k3b)\n",
    "        k4b = dt * f_nonlin(theta + k3a, omega + k3b, t + dt)\n",
    "        theta = theta + (k1a + 2 * k2a + 2 * k3a + k4a) / 6\n",
    "        omega = omega + (k1b + 2 * k2b + 2 * k3b + k4b) / 6\n",
    "        t = t + dt\n",
    "        \n",
    "        data_log.append( (t, theta, omega) )\n",
    "\n",
    "    # retrieve values from data_log\n",
    "    t_values     = [elem[0] for elem in data_log]\n",
    "    theta_values = [elem[1] / math.pi for elem in data_log]\n",
    "    omega_values = [elem[2] / math.pi for elem in data_log]\n",
    "\n",
    "    # setting up the figure \n",
    "    fig = plt.figure(facecolor='white')\n",
    "    ax = fig.add_subplot(1, 1, 1)\n",
    "    \n",
    "    # placing axes\n",
    "    ax.xaxis.set_ticks_position('bottom')\n",
    "    ax.yaxis.set_ticks_position('left')\n",
    "\n",
    "    # plot the function\n",
    "    plt.plot(t_values, theta_values, 'r', label=r'$\\theta$ (radians)')\n",
    "    plt.plot(t_values, omega_values, 'b', label=r'$\\omega (\\frac{radians}{s})$')\n",
    "    \n",
    "    # express yaxis as multiples of pi\n",
    "    ax.yaxis.set_major_formatter(ticker.FormatStrFormatter('%g $\\pi$'))\n",
    "    ax.yaxis.set_major_locator(ticker.MultipleLocator(base=1.0))\n",
    "\n",
    "    # should go from -pi to pi\n",
    "    plt.ylim([-1, 1])\n",
    "\n",
    "    # title graph\n",
    "    plt.title(  f'Non-Linear Solution for Damped Pendelum'\n",
    "                 '\\n'\n",
    "                r'$\\theta_0 = $' + f'{theta_init} | ' + r'$\\omega_0 = $' + f'{omega_init}')\n",
    "\n",
    "    # label x as time\n",
    "    plt.xlabel(\"t (s)\")\n",
    "\n",
    "    # show legend, and show plot\n",
    "    plt.legend(loc='upper right')\n",
    "    \n",
    "    if save: plt.savefig(f'./SavedPlots/{filename}')\n",
    "    if show: plt.show()"
   ]
  },
  {
   "attachments": {},
   "cell_type": "markdown",
   "metadata": {},
   "source": [
    "## Using the method"
   ]
  },
  {
   "cell_type": "code",
   "execution_count": 13,
   "metadata": {},
   "outputs": [
    {
     "data": {
      "image/png": "[encoded data removed]",
      "text/plain": [
       "<Figure size 432x288 with 1 Axes>"
      ]
     },
     "metadata": {},
     "output_type": "display_data"
    }
   ],
   "source": [
    "theta_init = 3.0\n",
    "omega_init = 0.0\n",
    "\n",
    "simulate_and_plot(theta_init,omega_init,True,True,'Exercise_8_Part_b')\n"
   ]
  }
 ],
 "metadata": {
  "kernelspec": {
   "display_name": "base",
   "language": "python",
   "name": "python3"
  },
  "language_info": {
   "codemirror_mode": {
    "name": "ipython",
    "version": 3
   },
   "file_extension": ".py",
   "mimetype": "text/x-python",
   "name": "python",
   "nbconvert_exporter": "python",
   "pygments_lexer": "ipython3",
   "version": "3.9.7"
  },
  "orig_nbformat": 4,
  "vscode": {
   "interpreter": {
    "hash": "4b70fd8341518fc5510eb337f3f5a73ae00dea841bbafb6c859f728b12f44ced"
   }
  }
 },
 "nbformat": 4,
 "nbformat_minor": 2
}
